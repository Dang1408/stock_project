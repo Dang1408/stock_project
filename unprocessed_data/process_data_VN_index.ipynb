{
 "cells": [
  {
   "cell_type": "code",
   "execution_count": 3,
   "metadata": {
    "collapsed": true,
    "ExecuteTime": {
     "end_time": "2023-07-22T19:47:57.542140940Z",
     "start_time": "2023-07-22T19:47:57.091833879Z"
    }
   },
   "outputs": [],
   "source": [
    "import pandas as pd\n",
    "import pandas_ta as ta\n",
    "import mplfinance as mpf\n",
    "import numpy as np\n",
    "import mplfinance as mpf\n",
    "import matplotlib.pyplot as plt"
   ]
  },
  {
   "cell_type": "code",
   "execution_count": 4,
   "outputs": [],
   "source": [
    "## write the function to create the column tema of the dataframe\n",
    "\n",
    "def create_tema(stock: pd.DataFrame, MA_period:int ) -> pd.Series:\n",
    "\n",
    "    ema1 = ta.ema(stock['Close'], length=MA_period)\n",
    "\n",
    "    # Calculate the second EMA\n",
    "    ema2 = ta.ema(ema1, length=MA_period)\n",
    "\n",
    "    # Calculate the third EMA\n",
    "    ema3 = ta.ema(ema2, length=MA_period)\n",
    "\n",
    "    # Calculate TEMA\n",
    "    tema = 3 * (ema1 - ema2) + ema3\n",
    "    #stock[f'tema_{MA_period}'] = tema\n",
    "    return tema"
   ],
   "metadata": {
    "collapsed": false,
    "ExecuteTime": {
     "end_time": "2023-07-22T19:47:57.546197736Z",
     "start_time": "2023-07-22T19:47:57.543963799Z"
    }
   }
  },
  {
   "cell_type": "code",
   "execution_count": 18,
   "outputs": [],
   "source": [
    "# Define your custom strategy using CustomStrategy\n",
    "CustomStrategy = ta.Strategy(\n",
    "    name=\"Customize technical indicator\",\n",
    "    description=\"adding TI\",\n",
    "    ta=[\n",
    "        {\"kind\": \"natr\", 'length':3 },\n",
    "        {\"kind\": \"rsi\", 'length':3 },\n",
    "        {\"kind\": \"adx\", 'length':3 },\n",
    "        {\"kind\": \"cci\", 'length':3 },\n",
    "        {\"kind\": \"roc\", 'length':3 },\n",
    "        {\"kind\": \"stoch\", 'length':3 },\n",
    "        {\"kind\": \"willr\", 'length':3 },\n",
    "        {\"kind\": \"obv\"},\n",
    "        {\"kind\": \"macd\"},\n",
    "        {\"kind\": \"bbands\", 'length':3},\n",
    "    ]\n",
    ")"
   ],
   "metadata": {
    "collapsed": false,
    "ExecuteTime": {
     "end_time": "2023-07-22T19:56:30.331292427Z",
     "start_time": "2023-07-22T19:56:30.320493373Z"
    }
   }
  },
  {
   "cell_type": "code",
   "execution_count": 19,
   "outputs": [],
   "source": [
    "def create_min_max_mid_price(stock: pd.DataFrame, period:int ) -> pd.Series:\n",
    "    stock[f'min_price_{period}'] = stock['Low'].rolling(window=period).min()\n",
    "    stock[f'max_price_{period}'] = stock['High'].rolling(window=period).max()\n",
    "    stock['mid_price'] = (stock['High'] + stock['Low']) / 2"
   ],
   "metadata": {
    "collapsed": false,
    "ExecuteTime": {
     "end_time": "2023-07-22T19:56:30.725421080Z",
     "start_time": "2023-07-22T19:56:30.719836831Z"
    }
   }
  },
  {
   "cell_type": "code",
   "execution_count": 20,
   "outputs": [],
   "source": [
    "def calculate_MA_smoothness( ma:pd.Series):\n",
    "    diff_i = ma -ma.shift(1)\n",
    "    diff_i = diff_i.dropna()\n",
    "    smooth =(diff_i-diff_i.shift(1)).dropna()\n",
    "    smooth = smooth.abs().mean()\n",
    "    return smooth\n",
    "def calculate_MA_lag(stock: pd.DataFrame, ma:pd.Series):\n",
    "    lag = (stock['Close']-ma).dropna()\n",
    "    lag= lag.abs().mean()\n",
    "    return lag"
   ],
   "metadata": {
    "collapsed": false,
    "ExecuteTime": {
     "end_time": "2023-07-22T19:56:31.171327807Z",
     "start_time": "2023-07-22T19:56:31.168814052Z"
    }
   }
  },
  {
   "cell_type": "code",
   "execution_count": 87,
   "outputs": [
    {
     "data": {
      "text/plain": "         Ngày Lần cuối      Mở     Cao    Thấp     KL % Thay đổi\n0  21/07/2023   81,800  79,500  81,900  79,500  1.75M      2.38%\n1  20/07/2023   79,900  80,900  80,900  79,100  2.20M     -1.11%\n2  19/07/2023   80,800  80,600  81,300  80,500  1.37M      0.37%\n3  18/07/2023   80,500  80,600  81,300  80,200  1.27M     -0.25%\n4  17/07/2023   80,700  81,800  81,800  80,500  1.45M     -1.34%\n5  14/07/2023   81,800  82,000  82,700  80,700  1.69M      0.00%\n6  13/07/2023   81,800  79,600  81,900  79,500  2.67M      2.89%\n7  12/07/2023   79,500  80,100  80,100  79,000  1.61M      0.38%\n8  11/07/2023   79,200  78,100  80,100  78,100  2.85M      1.67%\n9  10/07/2023   77,900  75,400  77,900  75,400  2.35M      3.59%",
      "text/html": "<div>\n<style scoped>\n    .dataframe tbody tr th:only-of-type {\n        vertical-align: middle;\n    }\n\n    .dataframe tbody tr th {\n        vertical-align: top;\n    }\n\n    .dataframe thead th {\n        text-align: right;\n    }\n</style>\n<table border=\"1\" class=\"dataframe\">\n  <thead>\n    <tr style=\"text-align: right;\">\n      <th></th>\n      <th>Ngày</th>\n      <th>Lần cuối</th>\n      <th>Mở</th>\n      <th>Cao</th>\n      <th>Thấp</th>\n      <th>KL</th>\n      <th>% Thay đổi</th>\n    </tr>\n  </thead>\n  <tbody>\n    <tr>\n      <th>0</th>\n      <td>21/07/2023</td>\n      <td>81,800</td>\n      <td>79,500</td>\n      <td>81,900</td>\n      <td>79,500</td>\n      <td>1.75M</td>\n      <td>2.38%</td>\n    </tr>\n    <tr>\n      <th>1</th>\n      <td>20/07/2023</td>\n      <td>79,900</td>\n      <td>80,900</td>\n      <td>80,900</td>\n      <td>79,100</td>\n      <td>2.20M</td>\n      <td>-1.11%</td>\n    </tr>\n    <tr>\n      <th>2</th>\n      <td>19/07/2023</td>\n      <td>80,800</td>\n      <td>80,600</td>\n      <td>81,300</td>\n      <td>80,500</td>\n      <td>1.37M</td>\n      <td>0.37%</td>\n    </tr>\n    <tr>\n      <th>3</th>\n      <td>18/07/2023</td>\n      <td>80,500</td>\n      <td>80,600</td>\n      <td>81,300</td>\n      <td>80,200</td>\n      <td>1.27M</td>\n      <td>-0.25%</td>\n    </tr>\n    <tr>\n      <th>4</th>\n      <td>17/07/2023</td>\n      <td>80,700</td>\n      <td>81,800</td>\n      <td>81,800</td>\n      <td>80,500</td>\n      <td>1.45M</td>\n      <td>-1.34%</td>\n    </tr>\n    <tr>\n      <th>5</th>\n      <td>14/07/2023</td>\n      <td>81,800</td>\n      <td>82,000</td>\n      <td>82,700</td>\n      <td>80,700</td>\n      <td>1.69M</td>\n      <td>0.00%</td>\n    </tr>\n    <tr>\n      <th>6</th>\n      <td>13/07/2023</td>\n      <td>81,800</td>\n      <td>79,600</td>\n      <td>81,900</td>\n      <td>79,500</td>\n      <td>2.67M</td>\n      <td>2.89%</td>\n    </tr>\n    <tr>\n      <th>7</th>\n      <td>12/07/2023</td>\n      <td>79,500</td>\n      <td>80,100</td>\n      <td>80,100</td>\n      <td>79,000</td>\n      <td>1.61M</td>\n      <td>0.38%</td>\n    </tr>\n    <tr>\n      <th>8</th>\n      <td>11/07/2023</td>\n      <td>79,200</td>\n      <td>78,100</td>\n      <td>80,100</td>\n      <td>78,100</td>\n      <td>2.85M</td>\n      <td>1.67%</td>\n    </tr>\n    <tr>\n      <th>9</th>\n      <td>10/07/2023</td>\n      <td>77,900</td>\n      <td>75,400</td>\n      <td>77,900</td>\n      <td>75,400</td>\n      <td>2.35M</td>\n      <td>3.59%</td>\n    </tr>\n  </tbody>\n</table>\n</div>"
     },
     "execution_count": 87,
     "metadata": {},
     "output_type": "execute_result"
    }
   ],
   "source": [
    "#import data csv and process the data\n",
    "the_name_of_stock=\"msn\"\n",
    "data = pd.read_csv('/mnt/learning/last_project/fetch_data_stock/unprocessed_data/' + the_name_of_stock + '.csv')\n",
    "data.head(10)"
   ],
   "metadata": {
    "collapsed": false,
    "ExecuteTime": {
     "end_time": "2023-07-22T20:27:01.077782364Z",
     "start_time": "2023-07-22T20:27:01.060677536Z"
    }
   }
  },
  {
   "cell_type": "code",
   "execution_count": 88,
   "outputs": [
    {
     "data": {
      "text/plain": "         Date   Close    Open    High     Low Volume\n0  21/07/2023  81,800  79,500  81,900  79,500  1.75M\n1  20/07/2023  79,900  80,900  80,900  79,100  2.20M\n2  19/07/2023  80,800  80,600  81,300  80,500  1.37M\n3  18/07/2023  80,500  80,600  81,300  80,200  1.27M\n4  17/07/2023  80,700  81,800  81,800  80,500  1.45M\n5  14/07/2023  81,800  82,000  82,700  80,700  1.69M\n6  13/07/2023  81,800  79,600  81,900  79,500  2.67M\n7  12/07/2023  79,500  80,100  80,100  79,000  1.61M\n8  11/07/2023  79,200  78,100  80,100  78,100  2.85M\n9  10/07/2023  77,900  75,400  77,900  75,400  2.35M",
      "text/html": "<div>\n<style scoped>\n    .dataframe tbody tr th:only-of-type {\n        vertical-align: middle;\n    }\n\n    .dataframe tbody tr th {\n        vertical-align: top;\n    }\n\n    .dataframe thead th {\n        text-align: right;\n    }\n</style>\n<table border=\"1\" class=\"dataframe\">\n  <thead>\n    <tr style=\"text-align: right;\">\n      <th></th>\n      <th>Date</th>\n      <th>Close</th>\n      <th>Open</th>\n      <th>High</th>\n      <th>Low</th>\n      <th>Volume</th>\n    </tr>\n  </thead>\n  <tbody>\n    <tr>\n      <th>0</th>\n      <td>21/07/2023</td>\n      <td>81,800</td>\n      <td>79,500</td>\n      <td>81,900</td>\n      <td>79,500</td>\n      <td>1.75M</td>\n    </tr>\n    <tr>\n      <th>1</th>\n      <td>20/07/2023</td>\n      <td>79,900</td>\n      <td>80,900</td>\n      <td>80,900</td>\n      <td>79,100</td>\n      <td>2.20M</td>\n    </tr>\n    <tr>\n      <th>2</th>\n      <td>19/07/2023</td>\n      <td>80,800</td>\n      <td>80,600</td>\n      <td>81,300</td>\n      <td>80,500</td>\n      <td>1.37M</td>\n    </tr>\n    <tr>\n      <th>3</th>\n      <td>18/07/2023</td>\n      <td>80,500</td>\n      <td>80,600</td>\n      <td>81,300</td>\n      <td>80,200</td>\n      <td>1.27M</td>\n    </tr>\n    <tr>\n      <th>4</th>\n      <td>17/07/2023</td>\n      <td>80,700</td>\n      <td>81,800</td>\n      <td>81,800</td>\n      <td>80,500</td>\n      <td>1.45M</td>\n    </tr>\n    <tr>\n      <th>5</th>\n      <td>14/07/2023</td>\n      <td>81,800</td>\n      <td>82,000</td>\n      <td>82,700</td>\n      <td>80,700</td>\n      <td>1.69M</td>\n    </tr>\n    <tr>\n      <th>6</th>\n      <td>13/07/2023</td>\n      <td>81,800</td>\n      <td>79,600</td>\n      <td>81,900</td>\n      <td>79,500</td>\n      <td>2.67M</td>\n    </tr>\n    <tr>\n      <th>7</th>\n      <td>12/07/2023</td>\n      <td>79,500</td>\n      <td>80,100</td>\n      <td>80,100</td>\n      <td>79,000</td>\n      <td>1.61M</td>\n    </tr>\n    <tr>\n      <th>8</th>\n      <td>11/07/2023</td>\n      <td>79,200</td>\n      <td>78,100</td>\n      <td>80,100</td>\n      <td>78,100</td>\n      <td>2.85M</td>\n    </tr>\n    <tr>\n      <th>9</th>\n      <td>10/07/2023</td>\n      <td>77,900</td>\n      <td>75,400</td>\n      <td>77,900</td>\n      <td>75,400</td>\n      <td>2.35M</td>\n    </tr>\n  </tbody>\n</table>\n</div>"
     },
     "execution_count": 88,
     "metadata": {},
     "output_type": "execute_result"
    }
   ],
   "source": [
    "#change the column name from Vietnamese to English\n",
    "\n",
    "data = data.rename(columns={'Ngày': 'Date', 'Mở': 'Open', 'Cao': 'High', 'Thấp': 'Low', 'Lần cuối': 'Close', 'KL': 'Volume'})\n",
    "\n",
    "if '% Thay đổi' in data.columns:\n",
    "    data = data.drop(columns=['% Thay đổi'])\n",
    "\n",
    "data.head(10)"
   ],
   "metadata": {
    "collapsed": false,
    "ExecuteTime": {
     "end_time": "2023-07-22T20:27:04.537510587Z",
     "start_time": "2023-07-22T20:27:04.523277772Z"
    }
   }
  },
  {
   "cell_type": "code",
   "execution_count": 89,
   "outputs": [
    {
     "data": {
      "text/plain": "             Close    Open    High     Low   Volume\nDate                                               \n2013-07-29  88,500  90,000  91,000  88,000  155.99K\n2013-07-30  89,000  88,000  89,500  88,000  156.25K\n2013-07-31  88,500  89,000  89,500  88,000   79.70K\n2013-08-01  88,000  88,500  88,500  88,000  273.93K\n2013-08-02  88,500  88,500  89,000  88,000  128.92K\n2013-08-05  88,000  88,500  89,000  88,000   87.00K\n2013-08-06  87,500  87,500  88,000  86,500  291.51K\n2013-08-07  88,000  87,500  88,500  87,000  200.23K\n2013-08-08  88,500  88,000  92,000  88,000  235.81K\n2013-08-09  89,500  89,000  90,000  89,000  196.71K",
      "text/html": "<div>\n<style scoped>\n    .dataframe tbody tr th:only-of-type {\n        vertical-align: middle;\n    }\n\n    .dataframe tbody tr th {\n        vertical-align: top;\n    }\n\n    .dataframe thead th {\n        text-align: right;\n    }\n</style>\n<table border=\"1\" class=\"dataframe\">\n  <thead>\n    <tr style=\"text-align: right;\">\n      <th></th>\n      <th>Close</th>\n      <th>Open</th>\n      <th>High</th>\n      <th>Low</th>\n      <th>Volume</th>\n    </tr>\n    <tr>\n      <th>Date</th>\n      <th></th>\n      <th></th>\n      <th></th>\n      <th></th>\n      <th></th>\n    </tr>\n  </thead>\n  <tbody>\n    <tr>\n      <th>2013-07-29</th>\n      <td>88,500</td>\n      <td>90,000</td>\n      <td>91,000</td>\n      <td>88,000</td>\n      <td>155.99K</td>\n    </tr>\n    <tr>\n      <th>2013-07-30</th>\n      <td>89,000</td>\n      <td>88,000</td>\n      <td>89,500</td>\n      <td>88,000</td>\n      <td>156.25K</td>\n    </tr>\n    <tr>\n      <th>2013-07-31</th>\n      <td>88,500</td>\n      <td>89,000</td>\n      <td>89,500</td>\n      <td>88,000</td>\n      <td>79.70K</td>\n    </tr>\n    <tr>\n      <th>2013-08-01</th>\n      <td>88,000</td>\n      <td>88,500</td>\n      <td>88,500</td>\n      <td>88,000</td>\n      <td>273.93K</td>\n    </tr>\n    <tr>\n      <th>2013-08-02</th>\n      <td>88,500</td>\n      <td>88,500</td>\n      <td>89,000</td>\n      <td>88,000</td>\n      <td>128.92K</td>\n    </tr>\n    <tr>\n      <th>2013-08-05</th>\n      <td>88,000</td>\n      <td>88,500</td>\n      <td>89,000</td>\n      <td>88,000</td>\n      <td>87.00K</td>\n    </tr>\n    <tr>\n      <th>2013-08-06</th>\n      <td>87,500</td>\n      <td>87,500</td>\n      <td>88,000</td>\n      <td>86,500</td>\n      <td>291.51K</td>\n    </tr>\n    <tr>\n      <th>2013-08-07</th>\n      <td>88,000</td>\n      <td>87,500</td>\n      <td>88,500</td>\n      <td>87,000</td>\n      <td>200.23K</td>\n    </tr>\n    <tr>\n      <th>2013-08-08</th>\n      <td>88,500</td>\n      <td>88,000</td>\n      <td>92,000</td>\n      <td>88,000</td>\n      <td>235.81K</td>\n    </tr>\n    <tr>\n      <th>2013-08-09</th>\n      <td>89,500</td>\n      <td>89,000</td>\n      <td>90,000</td>\n      <td>89,000</td>\n      <td>196.71K</td>\n    </tr>\n  </tbody>\n</table>\n</div>"
     },
     "execution_count": 89,
     "metadata": {},
     "output_type": "execute_result"
    }
   ],
   "source": [
    "#change the data type of the column Date to datetime and set index\n",
    "\n",
    "data['Date'] = pd.to_datetime(data['Date'], format='%d/%m/%Y')\n",
    "data = data.set_index('Date')\n",
    "data = data.sort_index()\n",
    "main_df = data.copy()\n",
    "main_df.head(10)"
   ],
   "metadata": {
    "collapsed": false,
    "ExecuteTime": {
     "end_time": "2023-07-22T20:27:05.700802983Z",
     "start_time": "2023-07-22T20:27:05.693361800Z"
    }
   }
  },
  {
   "cell_type": "code",
   "execution_count": 90,
   "outputs": [
    {
     "name": "stdout",
     "output_type": "stream",
     "text": [
      "<class 'pandas.core.frame.DataFrame'>\n",
      "DatetimeIndex: 2492 entries, 2013-07-29 to 2023-07-21\n",
      "Data columns (total 5 columns):\n",
      " #   Column  Non-Null Count  Dtype \n",
      "---  ------  --------------  ----- \n",
      " 0   Close   2492 non-null   object\n",
      " 1   Open    2492 non-null   object\n",
      " 2   High    2492 non-null   object\n",
      " 3   Low     2492 non-null   object\n",
      " 4   Volume  2492 non-null   object\n",
      "dtypes: object(5)\n",
      "memory usage: 116.8+ KB\n"
     ]
    }
   ],
   "source": [
    "main_df.info()"
   ],
   "metadata": {
    "collapsed": false,
    "ExecuteTime": {
     "end_time": "2023-07-22T20:27:06.661594699Z",
     "start_time": "2023-07-22T20:27:06.659019656Z"
    }
   }
  },
  {
   "cell_type": "code",
   "execution_count": 91,
   "outputs": [
    {
     "data": {
      "text/plain": "              Close     Open     High      Low     Volume\nDate                                                     \n2023-07-10  77900.0  75400.0  77900.0  75400.0  2350000.0\n2023-07-11  79200.0  78100.0  80100.0  78100.0  2850000.0\n2023-07-12  79500.0  80100.0  80100.0  79000.0  1610000.0\n2023-07-13  81800.0  79600.0  81900.0  79500.0  2670000.0\n2023-07-14  81800.0  82000.0  82700.0  80700.0  1690000.0\n2023-07-17  80700.0  81800.0  81800.0  80500.0  1450000.0\n2023-07-18  80500.0  80600.0  81300.0  80200.0  1270000.0\n2023-07-19  80800.0  80600.0  81300.0  80500.0  1370000.0\n2023-07-20  79900.0  80900.0  80900.0  79100.0  2200000.0\n2023-07-21  81800.0  79500.0  81900.0  79500.0  1750000.0",
      "text/html": "<div>\n<style scoped>\n    .dataframe tbody tr th:only-of-type {\n        vertical-align: middle;\n    }\n\n    .dataframe tbody tr th {\n        vertical-align: top;\n    }\n\n    .dataframe thead th {\n        text-align: right;\n    }\n</style>\n<table border=\"1\" class=\"dataframe\">\n  <thead>\n    <tr style=\"text-align: right;\">\n      <th></th>\n      <th>Close</th>\n      <th>Open</th>\n      <th>High</th>\n      <th>Low</th>\n      <th>Volume</th>\n    </tr>\n    <tr>\n      <th>Date</th>\n      <th></th>\n      <th></th>\n      <th></th>\n      <th></th>\n      <th></th>\n    </tr>\n  </thead>\n  <tbody>\n    <tr>\n      <th>2023-07-10</th>\n      <td>77900.0</td>\n      <td>75400.0</td>\n      <td>77900.0</td>\n      <td>75400.0</td>\n      <td>2350000.0</td>\n    </tr>\n    <tr>\n      <th>2023-07-11</th>\n      <td>79200.0</td>\n      <td>78100.0</td>\n      <td>80100.0</td>\n      <td>78100.0</td>\n      <td>2850000.0</td>\n    </tr>\n    <tr>\n      <th>2023-07-12</th>\n      <td>79500.0</td>\n      <td>80100.0</td>\n      <td>80100.0</td>\n      <td>79000.0</td>\n      <td>1610000.0</td>\n    </tr>\n    <tr>\n      <th>2023-07-13</th>\n      <td>81800.0</td>\n      <td>79600.0</td>\n      <td>81900.0</td>\n      <td>79500.0</td>\n      <td>2670000.0</td>\n    </tr>\n    <tr>\n      <th>2023-07-14</th>\n      <td>81800.0</td>\n      <td>82000.0</td>\n      <td>82700.0</td>\n      <td>80700.0</td>\n      <td>1690000.0</td>\n    </tr>\n    <tr>\n      <th>2023-07-17</th>\n      <td>80700.0</td>\n      <td>81800.0</td>\n      <td>81800.0</td>\n      <td>80500.0</td>\n      <td>1450000.0</td>\n    </tr>\n    <tr>\n      <th>2023-07-18</th>\n      <td>80500.0</td>\n      <td>80600.0</td>\n      <td>81300.0</td>\n      <td>80200.0</td>\n      <td>1270000.0</td>\n    </tr>\n    <tr>\n      <th>2023-07-19</th>\n      <td>80800.0</td>\n      <td>80600.0</td>\n      <td>81300.0</td>\n      <td>80500.0</td>\n      <td>1370000.0</td>\n    </tr>\n    <tr>\n      <th>2023-07-20</th>\n      <td>79900.0</td>\n      <td>80900.0</td>\n      <td>80900.0</td>\n      <td>79100.0</td>\n      <td>2200000.0</td>\n    </tr>\n    <tr>\n      <th>2023-07-21</th>\n      <td>81800.0</td>\n      <td>79500.0</td>\n      <td>81900.0</td>\n      <td>79500.0</td>\n      <td>1750000.0</td>\n    </tr>\n  </tbody>\n</table>\n</div>"
     },
     "execution_count": 91,
     "metadata": {},
     "output_type": "execute_result"
    }
   ],
   "source": [
    "#Process the value of the column Volume to integer type and the value of the column Close, Open, High, Low to float type\n",
    "#Using loop to process the data\n",
    "#IF the volume value has character K remove it and ',' and multiply by 1000, if the volume value has character M remove it and ',' and multiply by 1000000\n",
    "#Replace all character ',' in the value of the column Close, Open, High, Low to ''\n",
    "\n",
    "for i in range(len(main_df['Volume'])):\n",
    "    try:\n",
    "        if 'K' in main_df['Volume'][i]:\n",
    "            main_df['Volume'][i] = main_df['Volume'][i].replace('K', '')\n",
    "            main_df['Volume'][i] = float(main_df['Volume'][i]) * 1000\n",
    "        elif 'M' in data['Volume'][i]:\n",
    "            main_df['Volume'][i] = main_df['Volume'][i].replace('M', '')\n",
    "            main_df['Volume'][i] = float(main_df['Volume'][i]) * 1000000\n",
    "        else:\n",
    "            main_df['Volume'][i] = float(main_df['Volume'][i])\n",
    "    except:\n",
    "        print(data['date'][i])\n",
    "\n",
    "main_df[\"Volume\"] = main_df[\"Volume\"].astype(float)\n",
    "main_df[\"Close\"] = main_df[\"Close\"].str.replace(',', '').astype(float)\n",
    "main_df[\"Open\"] = main_df[\"Open\"].str.replace(',', '').astype(float)\n",
    "main_df[\"High\"] = main_df[\"High\"].str.replace(',', '').astype(float)\n",
    "main_df[\"Low\"] = main_df[\"Low\"].str.replace(',', '').astype(float)\n",
    "main_df.tail(10)"
   ],
   "metadata": {
    "collapsed": false,
    "ExecuteTime": {
     "end_time": "2023-07-22T20:27:08.233756992Z",
     "start_time": "2023-07-22T20:27:08.231950372Z"
    }
   }
  },
  {
   "cell_type": "code",
   "execution_count": 92,
   "outputs": [
    {
     "name": "stdout",
     "output_type": "stream",
     "text": [
      "<class 'pandas.core.frame.DataFrame'>\n",
      "DatetimeIndex: 2492 entries, 2013-07-29 to 2023-07-21\n",
      "Data columns (total 5 columns):\n",
      " #   Column  Non-Null Count  Dtype  \n",
      "---  ------  --------------  -----  \n",
      " 0   Close   2492 non-null   float64\n",
      " 1   Open    2492 non-null   float64\n",
      " 2   High    2492 non-null   float64\n",
      " 3   Low     2492 non-null   float64\n",
      " 4   Volume  2492 non-null   float64\n",
      "dtypes: float64(5)\n",
      "memory usage: 116.8 KB\n"
     ]
    }
   ],
   "source": [
    "main_df.info()"
   ],
   "metadata": {
    "collapsed": false,
    "ExecuteTime": {
     "end_time": "2023-07-22T20:27:09.354810895Z",
     "start_time": "2023-07-22T20:27:09.343822309Z"
    }
   }
  },
  {
   "cell_type": "code",
   "execution_count": 93,
   "outputs": [
    {
     "data": {
      "text/plain": "              Close     Open     High      Low    Volume    NATR_3      RSI_3  \\\nDate                                                                            \n2013-07-29  88500.0  90000.0  91000.0  88000.0  155990.0       NaN        NaN   \n2013-07-30  89000.0  88000.0  89500.0  88000.0  156250.0       NaN        NaN   \n2013-07-31  88500.0  89000.0  89500.0  88000.0   79700.0  1.694915        NaN   \n2013-08-01  88000.0  88500.0  88500.0  88000.0  273930.0  1.136364  21.052632   \n2013-08-02  88500.0  88500.0  89000.0  88000.0  128920.0  1.129944  53.846154   \n2013-08-05  88000.0  88500.0  89000.0  88000.0   87000.0  1.136364  33.175355   \n2013-08-06  87500.0  87500.0  88000.0  86500.0  291510.0  1.428571  21.052632   \n2013-08-07  88000.0  87500.0  88500.0  87000.0  200230.0  1.562500  49.004371   \n2013-08-08  88500.0  88000.0  92000.0  88000.0  235810.0  3.036723  66.693101   \n2013-08-09  89500.0  89000.0  90000.0  89000.0  196710.0  2.339385  83.677911   \n\n                ADX_3      DMP_3      DMN_3  ...     WILLR_3       OBV  \\\nDate                                         ...                         \n2013-07-29        NaN        NaN        NaN  ...         NaN  155990.0   \n2013-07-30        NaN        NaN        NaN  ...         NaN  312240.0   \n2013-07-31        NaN        NaN        NaN  ...  -83.333333  232540.0   \n2013-08-01        NaN   0.000000   0.000000  ... -100.000000  -41390.0   \n2013-08-02        NaN  20.454545   0.000000  ...  -66.666667   87530.0   \n2013-08-05        NaN  12.676056   0.000000  ... -100.000000     530.0   \n2013-08-06  87.775891   6.831120  46.110057  ...  -60.000000 -290980.0   \n2013-08-07  60.182898  17.666854  27.257431  ...  -40.000000  -90750.0   \n2013-08-08  64.338011  61.002341  10.342626  ...  -63.636364  145060.0   \n2013-08-09  66.774844  45.218283   7.666522  ...  -50.000000  341770.0   \n\n            MACD_12_26_9  MACDh_12_26_9  MACDs_12_26_9     BBL_3_2.0  \\\nDate                                                                   \n2013-07-29           NaN            NaN            NaN           NaN   \n2013-07-30           NaN            NaN            NaN           NaN   \n2013-07-31           NaN            NaN            NaN  88195.262146   \n2013-08-01           NaN            NaN            NaN  87683.503419   \n2013-08-02           NaN            NaN            NaN  87861.928813   \n2013-08-05           NaN            NaN            NaN  87695.262146   \n2013-08-06           NaN            NaN            NaN  87183.503419   \n2013-08-07           NaN            NaN            NaN  87361.928813   \n2013-08-08           NaN            NaN            NaN  87183.503419   \n2013-08-09           NaN            NaN            NaN  87419.447538   \n\n               BBM_3_2.0     BBU_3_2.0  BBB_3_2.0  BBP_3_2.0  \nDate                                                          \n2013-07-29           NaN           NaN        NaN        NaN  \n2013-07-30           NaN           NaN        NaN        NaN  \n2013-07-31  88666.666667  89138.071187   1.063318   0.323223  \n2013-08-01  88500.000000  89316.496581   1.845190   0.193814  \n2013-08-02  88333.333333  88804.737854   1.067331   0.676777  \n2013-08-05  88166.666667  88638.071187   1.069349   0.323223  \n2013-08-06  88000.000000  88816.496581   1.855674   0.193814  \n2013-08-07  87833.333333  88304.737854   1.073407   0.676777  \n2013-08-08  88000.000000  88816.496581   1.855674   0.806186  \n2013-08-09  88666.666667  89913.885796   2.813276   0.834077  \n\n[10 rows x 24 columns]",
      "text/html": "<div>\n<style scoped>\n    .dataframe tbody tr th:only-of-type {\n        vertical-align: middle;\n    }\n\n    .dataframe tbody tr th {\n        vertical-align: top;\n    }\n\n    .dataframe thead th {\n        text-align: right;\n    }\n</style>\n<table border=\"1\" class=\"dataframe\">\n  <thead>\n    <tr style=\"text-align: right;\">\n      <th></th>\n      <th>Close</th>\n      <th>Open</th>\n      <th>High</th>\n      <th>Low</th>\n      <th>Volume</th>\n      <th>NATR_3</th>\n      <th>RSI_3</th>\n      <th>ADX_3</th>\n      <th>DMP_3</th>\n      <th>DMN_3</th>\n      <th>...</th>\n      <th>WILLR_3</th>\n      <th>OBV</th>\n      <th>MACD_12_26_9</th>\n      <th>MACDh_12_26_9</th>\n      <th>MACDs_12_26_9</th>\n      <th>BBL_3_2.0</th>\n      <th>BBM_3_2.0</th>\n      <th>BBU_3_2.0</th>\n      <th>BBB_3_2.0</th>\n      <th>BBP_3_2.0</th>\n    </tr>\n    <tr>\n      <th>Date</th>\n      <th></th>\n      <th></th>\n      <th></th>\n      <th></th>\n      <th></th>\n      <th></th>\n      <th></th>\n      <th></th>\n      <th></th>\n      <th></th>\n      <th></th>\n      <th></th>\n      <th></th>\n      <th></th>\n      <th></th>\n      <th></th>\n      <th></th>\n      <th></th>\n      <th></th>\n      <th></th>\n      <th></th>\n    </tr>\n  </thead>\n  <tbody>\n    <tr>\n      <th>2013-07-29</th>\n      <td>88500.0</td>\n      <td>90000.0</td>\n      <td>91000.0</td>\n      <td>88000.0</td>\n      <td>155990.0</td>\n      <td>NaN</td>\n      <td>NaN</td>\n      <td>NaN</td>\n      <td>NaN</td>\n      <td>NaN</td>\n      <td>...</td>\n      <td>NaN</td>\n      <td>155990.0</td>\n      <td>NaN</td>\n      <td>NaN</td>\n      <td>NaN</td>\n      <td>NaN</td>\n      <td>NaN</td>\n      <td>NaN</td>\n      <td>NaN</td>\n      <td>NaN</td>\n    </tr>\n    <tr>\n      <th>2013-07-30</th>\n      <td>89000.0</td>\n      <td>88000.0</td>\n      <td>89500.0</td>\n      <td>88000.0</td>\n      <td>156250.0</td>\n      <td>NaN</td>\n      <td>NaN</td>\n      <td>NaN</td>\n      <td>NaN</td>\n      <td>NaN</td>\n      <td>...</td>\n      <td>NaN</td>\n      <td>312240.0</td>\n      <td>NaN</td>\n      <td>NaN</td>\n      <td>NaN</td>\n      <td>NaN</td>\n      <td>NaN</td>\n      <td>NaN</td>\n      <td>NaN</td>\n      <td>NaN</td>\n    </tr>\n    <tr>\n      <th>2013-07-31</th>\n      <td>88500.0</td>\n      <td>89000.0</td>\n      <td>89500.0</td>\n      <td>88000.0</td>\n      <td>79700.0</td>\n      <td>1.694915</td>\n      <td>NaN</td>\n      <td>NaN</td>\n      <td>NaN</td>\n      <td>NaN</td>\n      <td>...</td>\n      <td>-83.333333</td>\n      <td>232540.0</td>\n      <td>NaN</td>\n      <td>NaN</td>\n      <td>NaN</td>\n      <td>88195.262146</td>\n      <td>88666.666667</td>\n      <td>89138.071187</td>\n      <td>1.063318</td>\n      <td>0.323223</td>\n    </tr>\n    <tr>\n      <th>2013-08-01</th>\n      <td>88000.0</td>\n      <td>88500.0</td>\n      <td>88500.0</td>\n      <td>88000.0</td>\n      <td>273930.0</td>\n      <td>1.136364</td>\n      <td>21.052632</td>\n      <td>NaN</td>\n      <td>0.000000</td>\n      <td>0.000000</td>\n      <td>...</td>\n      <td>-100.000000</td>\n      <td>-41390.0</td>\n      <td>NaN</td>\n      <td>NaN</td>\n      <td>NaN</td>\n      <td>87683.503419</td>\n      <td>88500.000000</td>\n      <td>89316.496581</td>\n      <td>1.845190</td>\n      <td>0.193814</td>\n    </tr>\n    <tr>\n      <th>2013-08-02</th>\n      <td>88500.0</td>\n      <td>88500.0</td>\n      <td>89000.0</td>\n      <td>88000.0</td>\n      <td>128920.0</td>\n      <td>1.129944</td>\n      <td>53.846154</td>\n      <td>NaN</td>\n      <td>20.454545</td>\n      <td>0.000000</td>\n      <td>...</td>\n      <td>-66.666667</td>\n      <td>87530.0</td>\n      <td>NaN</td>\n      <td>NaN</td>\n      <td>NaN</td>\n      <td>87861.928813</td>\n      <td>88333.333333</td>\n      <td>88804.737854</td>\n      <td>1.067331</td>\n      <td>0.676777</td>\n    </tr>\n    <tr>\n      <th>2013-08-05</th>\n      <td>88000.0</td>\n      <td>88500.0</td>\n      <td>89000.0</td>\n      <td>88000.0</td>\n      <td>87000.0</td>\n      <td>1.136364</td>\n      <td>33.175355</td>\n      <td>NaN</td>\n      <td>12.676056</td>\n      <td>0.000000</td>\n      <td>...</td>\n      <td>-100.000000</td>\n      <td>530.0</td>\n      <td>NaN</td>\n      <td>NaN</td>\n      <td>NaN</td>\n      <td>87695.262146</td>\n      <td>88166.666667</td>\n      <td>88638.071187</td>\n      <td>1.069349</td>\n      <td>0.323223</td>\n    </tr>\n    <tr>\n      <th>2013-08-06</th>\n      <td>87500.0</td>\n      <td>87500.0</td>\n      <td>88000.0</td>\n      <td>86500.0</td>\n      <td>291510.0</td>\n      <td>1.428571</td>\n      <td>21.052632</td>\n      <td>87.775891</td>\n      <td>6.831120</td>\n      <td>46.110057</td>\n      <td>...</td>\n      <td>-60.000000</td>\n      <td>-290980.0</td>\n      <td>NaN</td>\n      <td>NaN</td>\n      <td>NaN</td>\n      <td>87183.503419</td>\n      <td>88000.000000</td>\n      <td>88816.496581</td>\n      <td>1.855674</td>\n      <td>0.193814</td>\n    </tr>\n    <tr>\n      <th>2013-08-07</th>\n      <td>88000.0</td>\n      <td>87500.0</td>\n      <td>88500.0</td>\n      <td>87000.0</td>\n      <td>200230.0</td>\n      <td>1.562500</td>\n      <td>49.004371</td>\n      <td>60.182898</td>\n      <td>17.666854</td>\n      <td>27.257431</td>\n      <td>...</td>\n      <td>-40.000000</td>\n      <td>-90750.0</td>\n      <td>NaN</td>\n      <td>NaN</td>\n      <td>NaN</td>\n      <td>87361.928813</td>\n      <td>87833.333333</td>\n      <td>88304.737854</td>\n      <td>1.073407</td>\n      <td>0.676777</td>\n    </tr>\n    <tr>\n      <th>2013-08-08</th>\n      <td>88500.0</td>\n      <td>88000.0</td>\n      <td>92000.0</td>\n      <td>88000.0</td>\n      <td>235810.0</td>\n      <td>3.036723</td>\n      <td>66.693101</td>\n      <td>64.338011</td>\n      <td>61.002341</td>\n      <td>10.342626</td>\n      <td>...</td>\n      <td>-63.636364</td>\n      <td>145060.0</td>\n      <td>NaN</td>\n      <td>NaN</td>\n      <td>NaN</td>\n      <td>87183.503419</td>\n      <td>88000.000000</td>\n      <td>88816.496581</td>\n      <td>1.855674</td>\n      <td>0.806186</td>\n    </tr>\n    <tr>\n      <th>2013-08-09</th>\n      <td>89500.0</td>\n      <td>89000.0</td>\n      <td>90000.0</td>\n      <td>89000.0</td>\n      <td>196710.0</td>\n      <td>2.339385</td>\n      <td>83.677911</td>\n      <td>66.774844</td>\n      <td>45.218283</td>\n      <td>7.666522</td>\n      <td>...</td>\n      <td>-50.000000</td>\n      <td>341770.0</td>\n      <td>NaN</td>\n      <td>NaN</td>\n      <td>NaN</td>\n      <td>87419.447538</td>\n      <td>88666.666667</td>\n      <td>89913.885796</td>\n      <td>2.813276</td>\n      <td>0.834077</td>\n    </tr>\n  </tbody>\n</table>\n<p>10 rows × 24 columns</p>\n</div>"
     },
     "execution_count": 93,
     "metadata": {},
     "output_type": "execute_result"
    }
   ],
   "source": [
    "#Create the technical indicator by CustomStrategy\n",
    "\n",
    "main_df.ta.strategy(CustomStrategy)\n",
    "main_df.head(10)"
   ],
   "metadata": {
    "collapsed": false,
    "ExecuteTime": {
     "end_time": "2023-07-22T20:27:10.270221393Z",
     "start_time": "2023-07-22T20:27:10.134671806Z"
    }
   }
  },
  {
   "cell_type": "code",
   "execution_count": 94,
   "outputs": [
    {
     "data": {
      "text/plain": "              Close     Open     High      Low    Volume    NATR_3      RSI_3  \\\nDate                                                                            \n2013-07-29  88500.0  90000.0  91000.0  88000.0  155990.0       NaN        NaN   \n2013-07-30  89000.0  88000.0  89500.0  88000.0  156250.0       NaN        NaN   \n2013-07-31  88500.0  89000.0  89500.0  88000.0   79700.0  1.694915        NaN   \n2013-08-01  88000.0  88500.0  88500.0  88000.0  273930.0  1.136364  21.052632   \n2013-08-02  88500.0  88500.0  89000.0  88000.0  128920.0  1.129944  53.846154   \n2013-08-05  88000.0  88500.0  89000.0  88000.0   87000.0  1.136364  33.175355   \n2013-08-06  87500.0  87500.0  88000.0  86500.0  291510.0  1.428571  21.052632   \n2013-08-07  88000.0  87500.0  88500.0  87000.0  200230.0  1.562500  49.004371   \n2013-08-08  88500.0  88000.0  92000.0  88000.0  235810.0  3.036723  66.693101   \n2013-08-09  89500.0  89000.0  90000.0  89000.0  196710.0  2.339385  83.677911   \n\n                ADX_3      DMP_3      DMN_3  ...  MACDh_12_26_9  \\\nDate                                         ...                  \n2013-07-29        NaN        NaN        NaN  ...            NaN   \n2013-07-30        NaN        NaN        NaN  ...            NaN   \n2013-07-31        NaN        NaN        NaN  ...            NaN   \n2013-08-01        NaN   0.000000   0.000000  ...            NaN   \n2013-08-02        NaN  20.454545   0.000000  ...            NaN   \n2013-08-05        NaN  12.676056   0.000000  ...            NaN   \n2013-08-06  87.775891   6.831120  46.110057  ...            NaN   \n2013-08-07  60.182898  17.666854  27.257431  ...            NaN   \n2013-08-08  64.338011  61.002341  10.342626  ...            NaN   \n2013-08-09  66.774844  45.218283   7.666522  ...            NaN   \n\n            MACDs_12_26_9     BBL_3_2.0     BBM_3_2.0     BBU_3_2.0  \\\nDate                                                                  \n2013-07-29            NaN           NaN           NaN           NaN   \n2013-07-30            NaN           NaN           NaN           NaN   \n2013-07-31            NaN  88195.262146  88666.666667  89138.071187   \n2013-08-01            NaN  87683.503419  88500.000000  89316.496581   \n2013-08-02            NaN  87861.928813  88333.333333  88804.737854   \n2013-08-05            NaN  87695.262146  88166.666667  88638.071187   \n2013-08-06            NaN  87183.503419  88000.000000  88816.496581   \n2013-08-07            NaN  87361.928813  87833.333333  88304.737854   \n2013-08-08            NaN  87183.503419  88000.000000  88816.496581   \n2013-08-09            NaN  87419.447538  88666.666667  89913.885796   \n\n            BBB_3_2.0  BBP_3_2.0        tema_2        tema_8  tema_100  \nDate                                                                    \n2013-07-29        NaN        NaN           NaN           NaN       NaN  \n2013-07-30        NaN        NaN  88750.000000           NaN       NaN  \n2013-07-31   1.063318   0.323223  88509.259259           NaN       NaN  \n2013-08-01   1.845190   0.193814  88009.259259           NaN       NaN  \n2013-08-02   1.067331   0.676777  88459.876543           NaN       NaN  \n2013-08-05   1.069349   0.323223  88031.207133           NaN       NaN  \n2013-08-06   1.855674   0.193814  87507.887517           NaN       NaN  \n2013-08-07   1.073407   0.676777  87958.962048  88250.000000       NaN  \n2013-08-08   1.855674   0.806186  88494.525733  88382.373114       NaN  \n2013-08-09   2.813276   0.834077  89489.978662  88990.283493       NaN  \n\n[10 rows x 27 columns]",
      "text/html": "<div>\n<style scoped>\n    .dataframe tbody tr th:only-of-type {\n        vertical-align: middle;\n    }\n\n    .dataframe tbody tr th {\n        vertical-align: top;\n    }\n\n    .dataframe thead th {\n        text-align: right;\n    }\n</style>\n<table border=\"1\" class=\"dataframe\">\n  <thead>\n    <tr style=\"text-align: right;\">\n      <th></th>\n      <th>Close</th>\n      <th>Open</th>\n      <th>High</th>\n      <th>Low</th>\n      <th>Volume</th>\n      <th>NATR_3</th>\n      <th>RSI_3</th>\n      <th>ADX_3</th>\n      <th>DMP_3</th>\n      <th>DMN_3</th>\n      <th>...</th>\n      <th>MACDh_12_26_9</th>\n      <th>MACDs_12_26_9</th>\n      <th>BBL_3_2.0</th>\n      <th>BBM_3_2.0</th>\n      <th>BBU_3_2.0</th>\n      <th>BBB_3_2.0</th>\n      <th>BBP_3_2.0</th>\n      <th>tema_2</th>\n      <th>tema_8</th>\n      <th>tema_100</th>\n    </tr>\n    <tr>\n      <th>Date</th>\n      <th></th>\n      <th></th>\n      <th></th>\n      <th></th>\n      <th></th>\n      <th></th>\n      <th></th>\n      <th></th>\n      <th></th>\n      <th></th>\n      <th></th>\n      <th></th>\n      <th></th>\n      <th></th>\n      <th></th>\n      <th></th>\n      <th></th>\n      <th></th>\n      <th></th>\n      <th></th>\n      <th></th>\n    </tr>\n  </thead>\n  <tbody>\n    <tr>\n      <th>2013-07-29</th>\n      <td>88500.0</td>\n      <td>90000.0</td>\n      <td>91000.0</td>\n      <td>88000.0</td>\n      <td>155990.0</td>\n      <td>NaN</td>\n      <td>NaN</td>\n      <td>NaN</td>\n      <td>NaN</td>\n      <td>NaN</td>\n      <td>...</td>\n      <td>NaN</td>\n      <td>NaN</td>\n      <td>NaN</td>\n      <td>NaN</td>\n      <td>NaN</td>\n      <td>NaN</td>\n      <td>NaN</td>\n      <td>NaN</td>\n      <td>NaN</td>\n      <td>NaN</td>\n    </tr>\n    <tr>\n      <th>2013-07-30</th>\n      <td>89000.0</td>\n      <td>88000.0</td>\n      <td>89500.0</td>\n      <td>88000.0</td>\n      <td>156250.0</td>\n      <td>NaN</td>\n      <td>NaN</td>\n      <td>NaN</td>\n      <td>NaN</td>\n      <td>NaN</td>\n      <td>...</td>\n      <td>NaN</td>\n      <td>NaN</td>\n      <td>NaN</td>\n      <td>NaN</td>\n      <td>NaN</td>\n      <td>NaN</td>\n      <td>NaN</td>\n      <td>88750.000000</td>\n      <td>NaN</td>\n      <td>NaN</td>\n    </tr>\n    <tr>\n      <th>2013-07-31</th>\n      <td>88500.0</td>\n      <td>89000.0</td>\n      <td>89500.0</td>\n      <td>88000.0</td>\n      <td>79700.0</td>\n      <td>1.694915</td>\n      <td>NaN</td>\n      <td>NaN</td>\n      <td>NaN</td>\n      <td>NaN</td>\n      <td>...</td>\n      <td>NaN</td>\n      <td>NaN</td>\n      <td>88195.262146</td>\n      <td>88666.666667</td>\n      <td>89138.071187</td>\n      <td>1.063318</td>\n      <td>0.323223</td>\n      <td>88509.259259</td>\n      <td>NaN</td>\n      <td>NaN</td>\n    </tr>\n    <tr>\n      <th>2013-08-01</th>\n      <td>88000.0</td>\n      <td>88500.0</td>\n      <td>88500.0</td>\n      <td>88000.0</td>\n      <td>273930.0</td>\n      <td>1.136364</td>\n      <td>21.052632</td>\n      <td>NaN</td>\n      <td>0.000000</td>\n      <td>0.000000</td>\n      <td>...</td>\n      <td>NaN</td>\n      <td>NaN</td>\n      <td>87683.503419</td>\n      <td>88500.000000</td>\n      <td>89316.496581</td>\n      <td>1.845190</td>\n      <td>0.193814</td>\n      <td>88009.259259</td>\n      <td>NaN</td>\n      <td>NaN</td>\n    </tr>\n    <tr>\n      <th>2013-08-02</th>\n      <td>88500.0</td>\n      <td>88500.0</td>\n      <td>89000.0</td>\n      <td>88000.0</td>\n      <td>128920.0</td>\n      <td>1.129944</td>\n      <td>53.846154</td>\n      <td>NaN</td>\n      <td>20.454545</td>\n      <td>0.000000</td>\n      <td>...</td>\n      <td>NaN</td>\n      <td>NaN</td>\n      <td>87861.928813</td>\n      <td>88333.333333</td>\n      <td>88804.737854</td>\n      <td>1.067331</td>\n      <td>0.676777</td>\n      <td>88459.876543</td>\n      <td>NaN</td>\n      <td>NaN</td>\n    </tr>\n    <tr>\n      <th>2013-08-05</th>\n      <td>88000.0</td>\n      <td>88500.0</td>\n      <td>89000.0</td>\n      <td>88000.0</td>\n      <td>87000.0</td>\n      <td>1.136364</td>\n      <td>33.175355</td>\n      <td>NaN</td>\n      <td>12.676056</td>\n      <td>0.000000</td>\n      <td>...</td>\n      <td>NaN</td>\n      <td>NaN</td>\n      <td>87695.262146</td>\n      <td>88166.666667</td>\n      <td>88638.071187</td>\n      <td>1.069349</td>\n      <td>0.323223</td>\n      <td>88031.207133</td>\n      <td>NaN</td>\n      <td>NaN</td>\n    </tr>\n    <tr>\n      <th>2013-08-06</th>\n      <td>87500.0</td>\n      <td>87500.0</td>\n      <td>88000.0</td>\n      <td>86500.0</td>\n      <td>291510.0</td>\n      <td>1.428571</td>\n      <td>21.052632</td>\n      <td>87.775891</td>\n      <td>6.831120</td>\n      <td>46.110057</td>\n      <td>...</td>\n      <td>NaN</td>\n      <td>NaN</td>\n      <td>87183.503419</td>\n      <td>88000.000000</td>\n      <td>88816.496581</td>\n      <td>1.855674</td>\n      <td>0.193814</td>\n      <td>87507.887517</td>\n      <td>NaN</td>\n      <td>NaN</td>\n    </tr>\n    <tr>\n      <th>2013-08-07</th>\n      <td>88000.0</td>\n      <td>87500.0</td>\n      <td>88500.0</td>\n      <td>87000.0</td>\n      <td>200230.0</td>\n      <td>1.562500</td>\n      <td>49.004371</td>\n      <td>60.182898</td>\n      <td>17.666854</td>\n      <td>27.257431</td>\n      <td>...</td>\n      <td>NaN</td>\n      <td>NaN</td>\n      <td>87361.928813</td>\n      <td>87833.333333</td>\n      <td>88304.737854</td>\n      <td>1.073407</td>\n      <td>0.676777</td>\n      <td>87958.962048</td>\n      <td>88250.000000</td>\n      <td>NaN</td>\n    </tr>\n    <tr>\n      <th>2013-08-08</th>\n      <td>88500.0</td>\n      <td>88000.0</td>\n      <td>92000.0</td>\n      <td>88000.0</td>\n      <td>235810.0</td>\n      <td>3.036723</td>\n      <td>66.693101</td>\n      <td>64.338011</td>\n      <td>61.002341</td>\n      <td>10.342626</td>\n      <td>...</td>\n      <td>NaN</td>\n      <td>NaN</td>\n      <td>87183.503419</td>\n      <td>88000.000000</td>\n      <td>88816.496581</td>\n      <td>1.855674</td>\n      <td>0.806186</td>\n      <td>88494.525733</td>\n      <td>88382.373114</td>\n      <td>NaN</td>\n    </tr>\n    <tr>\n      <th>2013-08-09</th>\n      <td>89500.0</td>\n      <td>89000.0</td>\n      <td>90000.0</td>\n      <td>89000.0</td>\n      <td>196710.0</td>\n      <td>2.339385</td>\n      <td>83.677911</td>\n      <td>66.774844</td>\n      <td>45.218283</td>\n      <td>7.666522</td>\n      <td>...</td>\n      <td>NaN</td>\n      <td>NaN</td>\n      <td>87419.447538</td>\n      <td>88666.666667</td>\n      <td>89913.885796</td>\n      <td>2.813276</td>\n      <td>0.834077</td>\n      <td>89489.978662</td>\n      <td>88990.283493</td>\n      <td>NaN</td>\n    </tr>\n  </tbody>\n</table>\n<p>10 rows × 27 columns</p>\n</div>"
     },
     "execution_count": 94,
     "metadata": {},
     "output_type": "execute_result"
    }
   ],
   "source": [
    "#Create the technical indicator by create_tema function (2, 8, 100)\n",
    "\n",
    "main_df['tema_2'] = create_tema(main_df, 2)\n",
    "main_df['tema_8'] = create_tema(main_df, 8)\n",
    "main_df['tema_100'] = create_tema(main_df, 100)\n",
    "main_df.head(10)"
   ],
   "metadata": {
    "collapsed": false,
    "ExecuteTime": {
     "end_time": "2023-07-22T20:27:11.475263386Z",
     "start_time": "2023-07-22T20:27:11.442481254Z"
    }
   }
  },
  {
   "cell_type": "code",
   "execution_count": 95,
   "outputs": [
    {
     "data": {
      "text/plain": "Close             0\nOpen              0\nHigh              0\nLow               0\nVolume            0\nNATR_3            2\nRSI_3             3\nADX_3             6\nDMP_3             3\nDMN_3             3\nCCI_3_0.015      10\nROC_3             3\nSTOCHk_14_3_3    15\nSTOCHd_14_3_3    17\nWILLR_3           2\nOBV               0\nMACD_12_26_9     25\nMACDh_12_26_9    33\nMACDs_12_26_9    33\nBBL_3_2.0         2\nBBM_3_2.0         2\nBBU_3_2.0         2\nBBB_3_2.0         2\nBBP_3_2.0         2\ntema_2            1\ntema_8            7\ntema_100         99\ndtype: int64"
     },
     "execution_count": 95,
     "metadata": {},
     "output_type": "execute_result"
    }
   ],
   "source": [
    "#Check null value in the dataframe\n",
    "\n",
    "main_df.isnull().sum()"
   ],
   "metadata": {
    "collapsed": false,
    "ExecuteTime": {
     "end_time": "2023-07-22T20:27:14.066263744Z",
     "start_time": "2023-07-22T20:27:14.023026943Z"
    }
   }
  },
  {
   "cell_type": "code",
   "execution_count": 96,
   "outputs": [
    {
     "data": {
      "text/plain": "Close            0\nOpen             0\nHigh             0\nLow              0\nVolume           0\nNATR_3           0\nRSI_3            0\nADX_3            0\nDMP_3            0\nDMN_3            0\nCCI_3_0.015      0\nROC_3            0\nSTOCHk_14_3_3    0\nSTOCHd_14_3_3    0\nWILLR_3          0\nOBV              0\nMACD_12_26_9     0\nMACDh_12_26_9    0\nMACDs_12_26_9    0\nBBL_3_2.0        0\nBBM_3_2.0        0\nBBU_3_2.0        0\nBBB_3_2.0        0\nBBP_3_2.0        0\ntema_2           0\ntema_8           0\ntema_100         0\ndtype: int64"
     },
     "execution_count": 96,
     "metadata": {},
     "output_type": "execute_result"
    }
   ],
   "source": [
    "#Drop null value in the dataframe\n",
    "\n",
    "main_df = main_df.dropna()\n",
    "main_df.isnull().sum()"
   ],
   "metadata": {
    "collapsed": false,
    "ExecuteTime": {
     "end_time": "2023-07-22T20:27:15.216420878Z",
     "start_time": "2023-07-22T20:27:15.209770825Z"
    }
   }
  },
  {
   "cell_type": "code",
   "execution_count": 97,
   "outputs": [
    {
     "data": {
      "text/plain": "2387"
     },
     "execution_count": 97,
     "metadata": {},
     "output_type": "execute_result"
    }
   ],
   "source": [
    "#Check the length of the dataframe\n",
    "\n",
    "len(main_df)"
   ],
   "metadata": {
    "collapsed": false,
    "ExecuteTime": {
     "end_time": "2023-07-22T20:27:17.056654501Z",
     "start_time": "2023-07-22T20:27:17.043984545Z"
    }
   }
  },
  {
   "cell_type": "code",
   "execution_count": 98,
   "outputs": [],
   "source": [
    "#Export CSV file\n",
    "\n",
    "main_df.to_csv('/mnt/learning/last_project/fetch_data_stock/input/clean_' + the_name_of_stock + '.csv')"
   ],
   "metadata": {
    "collapsed": false,
    "ExecuteTime": {
     "end_time": "2023-07-22T20:27:33.481213809Z",
     "start_time": "2023-07-22T20:27:33.439096823Z"
    }
   }
  }
 ],
 "metadata": {
  "kernelspec": {
   "display_name": "Python 3",
   "language": "python",
   "name": "python3"
  },
  "language_info": {
   "codemirror_mode": {
    "name": "ipython",
    "version": 2
   },
   "file_extension": ".py",
   "mimetype": "text/x-python",
   "name": "python",
   "nbconvert_exporter": "python",
   "pygments_lexer": "ipython2",
   "version": "2.7.6"
  }
 },
 "nbformat": 4,
 "nbformat_minor": 0
}
