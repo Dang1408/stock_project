{
 "cells": [
  {
   "cell_type": "code",
   "execution_count": 6,
   "metadata": {
    "ExecuteTime": {
     "end_time": "2023-06-25T12:02:55.226740699Z",
     "start_time": "2023-06-25T12:02:55.181579450Z"
    }
   },
   "outputs": [],
   "source": [
    "from yahooquery import Ticker\n",
    "\n",
    "def get_stock_data_by_yahoo_finance(symbol, model_profile):\n",
    "    # https://pypi.org/project/yahooquery/\n",
    "\n",
    "    ticker = Ticker(symbol, asynchronous=True)\n",
    "    # get stock price data\n",
    "    data = ticker.history(period=\"1w\", interval=\"1m\")\n",
    "\n",
    "    print(data.head())"
   ]
  },
  {
   "cell_type": "code",
   "execution_count": 5,
   "metadata": {
    "ExecuteTime": {
     "end_time": "2023-06-25T12:02:55.227078050Z",
     "start_time": "2023-06-25T12:02:55.226426931Z"
    }
   },
   "outputs": [],
   "source": []
  }
 ],
 "metadata": {
  "kernelspec": {
   "display_name": "Python 3 (ipykernel)",
   "language": "python",
   "name": "python3"
  },
  "language_info": {
   "codemirror_mode": {
    "name": "ipython",
    "version": 3
   },
   "file_extension": ".py",
   "mimetype": "text/x-python",
   "name": "python",
   "nbconvert_exporter": "python",
   "pygments_lexer": "ipython3",
   "version": "3.10.6"
  }
 },
 "nbformat": 4,
 "nbformat_minor": 1
}
