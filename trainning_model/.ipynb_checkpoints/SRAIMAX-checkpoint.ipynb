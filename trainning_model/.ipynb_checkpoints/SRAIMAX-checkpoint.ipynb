{
 "cells": [
  {
   "cell_type": "code",
   "execution_count": 38,
   "metadata": {
    "ExecuteTime": {
     "end_time": "2023-07-01T14:19:09.815674604Z",
     "start_time": "2023-07-01T14:19:09.810173537Z"
    }
   },
   "outputs": [],
   "source": [
    "import pandas as pd\n",
    "import numpy as np\n",
    "import matplotlib.pyplot as plt\n",
    "import seaborn as sns\n",
    "from pandas.plotting import register_matplotlib_converters\n",
    "\n",
    "register_matplotlib_converters()\n",
    "%matplotlib inline"
   ]
  },
  {
   "cell_type": "code",
   "execution_count": 44,
   "metadata": {},
   "outputs": [],
   "source": [
    "import psycopg2\n",
    "from dao.postgresql.stock_data_dao import Stockdatadao\n",
    "from dao.postgresql.connect import connect\n",
    "\n",
    "\n",
    "postgresDb = psycopg2.connect(\n",
    "    host=\"localhost\",\n",
    "    database=\"postgres\",\n",
    "    user=\"postgres\",\n",
    "    password=\"admin\")"
   ]
  },
  {
   "cell_type": "code",
   "execution_count": 45,
   "metadata": {},
   "outputs": [
    {
     "ename": "UndefinedTable",
     "evalue": "relation \"stock_in_the_end_of_day\" does not exist\nLINE 2:                     FROM stock_in_the_end_of_day WHERE symbo...\n                                 ^\n",
     "output_type": "error",
     "traceback": [
      "\u001b[0;31m---------------------------------------------------------------------------\u001b[0m",
      "\u001b[0;31mUndefinedTable\u001b[0m                            Traceback (most recent call last)",
      "Cell \u001b[0;32mIn[45], line 3\u001b[0m\n\u001b[1;32m      1\u001b[0m stock_data_dao \u001b[38;5;241m=\u001b[39m Stockdatadao(postgresDb)\n\u001b[0;32m----> 3\u001b[0m stock_data \u001b[38;5;241m=\u001b[39m \u001b[43mstock_data_dao\u001b[49m\u001b[38;5;241;43m.\u001b[39;49m\u001b[43mselect\u001b[49m\u001b[43m(\u001b[49m\u001b[38;5;124;43m'\u001b[39;49m\u001b[38;5;124;43mAAPL\u001b[39;49m\u001b[38;5;124;43m'\u001b[39;49m\u001b[43m)\u001b[49m\n\u001b[1;32m      5\u001b[0m \u001b[38;5;28mprint\u001b[39m(stock_data)\n\u001b[1;32m      6\u001b[0m \u001b[38;5;66;03m# df = pd.DataFrame(stock_data, columns=['date', 'open', 'high', 'low', 'close', 'volume', 'adj_close'])\u001b[39;00m\n\u001b[1;32m      7\u001b[0m \u001b[38;5;66;03m#\u001b[39;00m\n\u001b[1;32m      8\u001b[0m \u001b[38;5;66;03m# df['date'] = pd.to_datetime(df['date'])\u001b[39;00m\n\u001b[0;32m   (...)\u001b[0m\n\u001b[1;32m     11\u001b[0m \u001b[38;5;66;03m#\u001b[39;00m\n\u001b[1;32m     12\u001b[0m \u001b[38;5;66;03m# print(df.head(10))\u001b[39;00m\n",
      "File \u001b[0;32m/mnt/learning/last_project/fetch_data_stock/dao/postgresql/stock_data_dao.py:27\u001b[0m, in \u001b[0;36mStockdatadao.select\u001b[0;34m(self, symbol)\u001b[0m\n\u001b[1;32m     23\u001b[0m sql \u001b[38;5;241m=\u001b[39m \u001b[38;5;124m\"\"\"\u001b[39m\u001b[38;5;124mSELECT date_time, open, high, low, close, volume, adj_close \u001b[39m\n\u001b[1;32m     24\u001b[0m \u001b[38;5;124m            FROM stock_in_the_end_of_day WHERE symbol = \u001b[39m\u001b[38;5;132;01m%s\u001b[39;00m\u001b[38;5;124m\"\"\"\u001b[39m\n\u001b[1;32m     25\u001b[0m val \u001b[38;5;241m=\u001b[39m (symbol,)\n\u001b[0;32m---> 27\u001b[0m \u001b[43mcursor\u001b[49m\u001b[38;5;241;43m.\u001b[39;49m\u001b[43mexecute\u001b[49m\u001b[43m(\u001b[49m\u001b[43msql\u001b[49m\u001b[43m,\u001b[49m\u001b[43m \u001b[49m\u001b[43mval\u001b[49m\u001b[43m)\u001b[49m\n\u001b[1;32m     28\u001b[0m result \u001b[38;5;241m=\u001b[39m cursor\u001b[38;5;241m.\u001b[39mfetchall()\n\u001b[1;32m     29\u001b[0m list_stock_data \u001b[38;5;241m=\u001b[39m []\n",
      "\u001b[0;31mUndefinedTable\u001b[0m: relation \"stock_in_the_end_of_day\" does not exist\nLINE 2:                     FROM stock_in_the_end_of_day WHERE symbo...\n                                 ^\n"
     ]
    }
   ],
   "source": [
    "stock_data_dao = Stockdatadao(postgresDb)\n",
    "\n",
    "stock_data = stock_data_dao.select('AAPL')\n",
    "\n",
    "print(stock_data)\n",
    "# df = pd.DataFrame(stock_data, columns=['date', 'open', 'high', 'low', 'close', 'volume', 'adj_close'])\n",
    "#\n",
    "# df['date'] = pd.to_datetime(df['date'])\n",
    "# df.set_index('date', inplace=True)\n",
    "# df.sort_index(inplace=True)\n",
    "#\n",
    "# print(df.head(10))"
   ]
  },
  {
   "cell_type": "code",
   "execution_count": null,
   "metadata": {},
   "outputs": [],
   "source": []
  },
  {
   "cell_type": "code",
   "execution_count": null,
   "metadata": {},
   "outputs": [],
   "source": []
  }
 ],
 "metadata": {
  "kernelspec": {
   "display_name": "Python 3 (ipykernel)",
   "language": "python",
   "name": "python3"
  },
  "language_info": {
   "codemirror_mode": {
    "name": "ipython",
    "version": 3
   },
   "file_extension": ".py",
   "mimetype": "text/x-python",
   "name": "python",
   "nbconvert_exporter": "python",
   "pygments_lexer": "ipython3",
   "version": "3.10.6"
  }
 },
 "nbformat": 4,
 "nbformat_minor": 1
}
