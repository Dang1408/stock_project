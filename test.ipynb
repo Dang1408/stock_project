{
 "cells": [
  {
   "cell_type": "code",
   "execution_count": 6,
   "metadata": {
    "ExecuteTime": {
     "end_time": "2023-06-27T14:43:45.420647772Z",
     "start_time": "2023-06-27T14:43:43.388444826Z"
    }
   },
   "outputs": [
    {
     "name": "stdout",
     "output_type": "stream",
     "text": [
      "Quote not found for ticker symbol: XLNX\n"
     ]
    }
   ],
   "source": [
    "from yahooquery import Ticker\n",
    "import datetime\n",
    "\n",
    "\n",
    "\n",
    "ticker = Ticker('XLNX')\n",
    "\n",
    "company_information = ticker.summary_profile['XLNX']\n",
    "\n",
    "print(company_information)"
   ]
  },
  {
   "cell_type": "code",
   "execution_count": 7,
   "metadata": {
    "ExecuteTime": {
     "end_time": "2023-06-27T14:43:45.421044833Z",
     "start_time": "2023-06-27T14:43:45.412072788Z"
    }
   },
   "outputs": [],
   "source": [
    "# df = get_stock_data_by_yahoo_finance(\"AAPL\")\n",
    "#\n",
    "# df.loc[('AAPL', datetime.date(2023, 6, 15))]\n"
   ]
  },
  {
   "cell_type": "code",
   "execution_count": 7,
   "outputs": [],
   "source": [],
   "metadata": {
    "collapsed": false,
    "ExecuteTime": {
     "end_time": "2023-06-27T14:43:45.421200635Z",
     "start_time": "2023-06-27T14:43:45.412280371Z"
    }
   }
  }
 ],
 "metadata": {
  "kernelspec": {
   "display_name": "Python 3 (ipykernel)",
   "language": "python",
   "name": "python3"
  },
  "language_info": {
   "codemirror_mode": {
    "name": "ipython",
    "version": 3
   },
   "file_extension": ".py",
   "mimetype": "text/x-python",
   "name": "python",
   "nbconvert_exporter": "python",
   "pygments_lexer": "ipython3",
   "version": "3.10.6"
  }
 },
 "nbformat": 4,
 "nbformat_minor": 1
}
